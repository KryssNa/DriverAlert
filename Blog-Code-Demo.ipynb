{
 "cells": [
  {
   "cell_type": "markdown",
   "metadata": {
    "id": "NNseF0sOAGCU"
   },
   "source": [
    "# Drowsiness Detection using Mediapipe in Python"
   ]
  },
  {
   "cell_type": "code",
   "execution_count": null,
   "metadata": {
    "ExecuteTime": {
     "end_time": "2022-09-22T17:23:26.167797Z",
     "start_time": "2022-09-22T17:23:25.136805Z"
    },
    "id": "Y0z9ncaRAGCn"
   },
   "outputs": [],
   "source": [
    "import cv2\n",
    "import numpy as np\n",
    "import matplotlib.pyplot as plt\n",
    "import mediapipe as mp\n",
    "\n",
    "mp_facemesh = mp.solutions.face_mesh\n",
    "mp_drawing  = mp.solutions.drawing_utils\n",
    "denormalize_coordinates = mp_drawing._normalized_to_pixel_coordinates\n",
    "\n",
    "%matplotlib inline"
   ]
  },
  {
   "cell_type": "markdown",
   "metadata": {
    "id": "718zRd1TAGCn"
   },
   "source": [
    "**Get all the landmarks points for both eyes.**"
   ]
  },
  {
   "cell_type": "code",
   "execution_count": null,
   "metadata": {
    "ExecuteTime": {
     "end_time": "2022-09-22T17:23:26.183791Z",
     "start_time": "2022-09-22T17:23:26.170798Z"
    },
    "id": "GgBDNvnrAGCo",
    "outputId": "ae8c4e9b-e059-4f3a-c3c9-5bcf0eccd2ad"
   },
   "outputs": [],
   "source": [
    "# Landmark points corresponding to left eye\n",
    "all_left_eye_idxs = list(mp_facemesh.FACEMESH_LEFT_EYE)\n",
    "all_left_eye_idxs = set(np.ravel(all_left_eye_idxs)) # flatten and remove duplicates\n",
    "print(\"Left eye landmarks:\", all_left_eye_idxs)\n",
    "\n",
    "# Landmark points corresponding to right eye\n",
    "all_right_eye_idxs = list(mp_facemesh.FACEMESH_RIGHT_EYE)\n",
    "all_right_eye_idxs = set(np.ravel(all_right_eye_idxs)) # flatten and remove duplicates\n",
    "print(\"Right eye landmarks:\", all_right_eye_idxs)\n",
    "\n",
    "# Combined for plotting use - Landmark points for both eye\n",
    "all_idxs = all_left_eye_idxs.union(all_right_eye_idxs)"
   ]
  },
  {
   "cell_type": "code",
   "execution_count": null,
   "metadata": {
    "ExecuteTime": {
     "end_time": "2022-09-22T17:23:26.198799Z",
     "start_time": "2022-09-22T17:23:26.187800Z"
    },
    "id": "-X0TqNd0AGCp"
   },
   "outputs": [],
   "source": [
    "# The chosen 12 points:   P1,  P2,  P3,  P4,  P5,  P6\n",
    "chosen_left_eye_idxs  = [362, 385, 387, 263, 373, 380]\n",
    "chosen_right_eye_idxs = [33,  160, 158, 133, 153, 144]\n",
    "\n",
    "all_chosen_idxs = chosen_left_eye_idxs + chosen_right_eye_idxs"
   ]
  },
  {
   "cell_type": "code",
   "execution_count": null,
   "metadata": {
    "ExecuteTime": {
     "end_time": "2022-09-22T17:23:26.401791Z",
     "start_time": "2022-09-22T17:23:26.200795Z"
    },
    "code_folding": [],
    "id": "GEvNPrSbAGCp",
    "outputId": "91e8f331-8475-4b7f-962b-28ca8f340690"
   },
   "outputs": [],
   "source": [
    "# Load an image. \n",
    "\n",
    "image = cv2.imread(\"test-open-eyes.jpg\")\n",
    "image = cv2.cvtColor(image, cv2.COLOR_BGR2RGB) # convert to RGB\n",
    "\n",
    "image = np.ascontiguousarray(image)\n",
    "\n",
    "imgH, imgW, _ = image.shape\n",
    "\n",
    "plt.imshow(image);"
   ]
  },
  {
   "cell_type": "code",
   "execution_count": null,
   "metadata": {
    "ExecuteTime": {
     "end_time": "2022-09-22T17:23:26.447789Z",
     "start_time": "2022-09-22T17:23:26.403796Z"
    },
    "id": "nzk1sU9IAGCq",
    "outputId": "d1a0d7d3-f540-479c-d41a-b96ee46e77a0"
   },
   "outputs": [],
   "source": [
    "# Running inference using static_image_mode \n",
    "\n",
    "with mp_facemesh.FaceMesh(\n",
    "    static_image_mode=True,        # Default=False\n",
    "    max_num_faces=1,               # Default=1\n",
    "    refine_landmarks=False,        # Default=False\n",
    "    min_detection_confidence=0.5,  # Default=0.5\n",
    "    min_tracking_confidence= 0.5,  # Default=0.5\n",
    ") as face_mesh:\n",
    "    \n",
    "    results = face_mesh.process(image)\n",
    "\n",
    "print(bool(results.multi_face_landmarks)) # Indicates whether any detections are available or not."
   ]
  },
  {
   "cell_type": "code",
   "execution_count": null,
   "metadata": {
    "ExecuteTime": {
     "end_time": "2022-09-22T17:23:26.463794Z",
     "start_time": "2022-09-22T17:23:26.450793Z"
    }
   },
   "outputs": [],
   "source": [
    "# Get the first landmark point on the first detected face\n",
    "\n",
    "landmark_0 = results.multi_face_landmarks[0].landmark[0]\n",
    "print(landmark_0)\n",
    "\n",
    "landmark_0_x = landmark_0.x * imgW\n",
    "landmark_0_y = landmark_0.y * imgH\n",
    "landmark_0_z = landmark_0.z * imgW # according to documentation\n",
    "\n",
    "print(\"X:\", landmark_0_x)\n",
    "print(\"Y:\", landmark_0_y)\n",
    "print(\"Z:\", landmark_0_z)\n",
    "\n",
    "print()\n",
    "print(\"Total Length of '.landmark':\", len(results.multi_face_landmarks[0].landmark))"
   ]
  },
  {
   "cell_type": "code",
   "execution_count": null,
   "metadata": {
    "ExecuteTime": {
     "end_time": "2022-09-22T17:23:26.479800Z",
     "start_time": "2022-09-22T17:23:26.465799Z"
    }
   },
   "outputs": [],
   "source": [
    "def plot(\n",
    "    *,\n",
    "    img_dt,\n",
    "    img_eye_lmks=None,\n",
    "    img_eye_lmks_chosen=None,\n",
    "    face_landmarks=None,\n",
    "    ts_thickness=1,\n",
    "    ts_circle_radius=2,\n",
    "    lmk_circle_radius=3,\n",
    "    name=\"1\",\n",
    "):\n",
    "    # For plotting Face Tessellation\n",
    "    image_drawing_tool = img_dt \n",
    "    \n",
    "     # For plotting all eye landmarks\n",
    "    image_eye_lmks = img_dt.copy() if img_eye_lmks is None else img_eye_lmks\n",
    "    \n",
    "    # For plotting chosen eye landmarks\n",
    "    img_eye_lmks_chosen = img_dt.copy() if img_eye_lmks_chosen is None else img_eye_lmks_chosen\n",
    "\n",
    "    # Initializing drawing utilities for plotting face mesh tessellation\n",
    "    connections_drawing_spec = mp_drawing.DrawingSpec(\n",
    "        thickness=ts_thickness, circle_radius=ts_circle_radius, color=(255, 255, 255)\n",
    "    )\n",
    "\n",
    "    # Initialize a matplotlib figure.\n",
    "    fig = plt.figure(figsize=(20, 15))\n",
    "    fig.set_facecolor(\"white\")\n",
    "\n",
    "    # Draw landmarks on face using the drawing utilities.\n",
    "    mp_drawing.draw_landmarks(\n",
    "        image=image_drawing_tool,\n",
    "        landmark_list=face_landmarks,\n",
    "        connections=mp_facemesh.FACEMESH_TESSELATION,\n",
    "        landmark_drawing_spec=None,\n",
    "        connection_drawing_spec=connections_drawing_spec,\n",
    "    )\n",
    "\n",
    "    # Get the object which holds the x, y and z coordinates for each landmark\n",
    "    landmarks = face_landmarks.landmark\n",
    "\n",
    "    # Iterate over all landmarks.\n",
    "    # If the landmark_idx is present in either all_idxs or all_chosen_idxs,\n",
    "    # get the denormalized coordinates and plot circles at those coordinates.\n",
    "\n",
    "    for landmark_idx, landmark in enumerate(landmarks):\n",
    "        if landmark_idx in all_idxs:\n",
    "            pred_cord = denormalize_coordinates(landmark.x, landmark.y, imgW, imgH)\n",
    "            cv2.circle(image_eye_lmks, pred_cord, lmk_circle_radius, (255, 255, 255), -1)\n",
    "\n",
    "        if landmark_idx in all_chosen_idxs:\n",
    "            pred_cord = denormalize_coordinates(landmark.x, landmark.y, imgW, imgH)\n",
    "            cv2.circle(img_eye_lmks_chosen, pred_cord, lmk_circle_radius, (255, 255, 255), -1)\n",
    "\n",
    "\n",
    "    # Plot post-processed images\n",
    "    plt.subplot(1, 3, 1)\n",
    "    plt.title(\"Face Mesh Tessellation\", fontsize=18)\n",
    "    plt.imshow(image_drawing_tool)\n",
    "    plt.axis(\"off\")\n",
    "\n",
    "    plt.subplot(1, 3, 2)\n",
    "    plt.title(\"All eye landmarks\", fontsize=18)\n",
    "    plt.imshow(image_eye_lmks)\n",
    "    plt.axis(\"off\")\n",
    "\n",
    "    plt.subplot(1, 3, 3)\n",
    "    plt.imshow(img_eye_lmks_chosen)\n",
    "    plt.title(\"Chosen landmarks\", fontsize=18)\n",
    "    plt.axis(\"off\")\n",
    "#     plt.subplots_adjust(left=0.02, right=0.98, top=None, bottom=0.4, hspace=1.0)\n",
    "#     plt.savefig(f'image_{name}.png', dpi=200.0, bbox_inches=\"tight\")\n",
    "    plt.show()\n",
    "    plt.close()\n",
    "    return"
   ]
  },
  {
   "cell_type": "code",
   "execution_count": null,
   "metadata": {
    "ExecuteTime": {
     "end_time": "2022-09-22T17:23:26.883803Z",
     "start_time": "2022-09-22T17:23:26.481803Z"
    }
   },
   "outputs": [],
   "source": [
    "# If detections are available.\n",
    "if results.multi_face_landmarks:\n",
    "    \n",
    "    # Iterate over detections of each face. Here, we have max_num_faces=1, \n",
    "    # so there will be at most 1 element in the 'results.multi_face_landmarks' list            \n",
    "    # Only one iteration is performed.\n",
    "\n",
    "    for face_id, face_landmarks in enumerate(results.multi_face_landmarks):    \n",
    "        _ = plot(img_dt=image.copy(), face_landmarks=face_landmarks)"
   ]
  },
  {
   "cell_type": "code",
   "execution_count": null,
   "metadata": {
    "ExecuteTime": {
     "end_time": "2022-09-22T17:23:26.899795Z",
     "start_time": "2022-09-22T17:23:26.885799Z"
    },
    "id": "DlQw3zMyAGCv"
   },
   "outputs": [],
   "source": [
    "def distance(point_1, point_2):\n",
    "    \"\"\"Calculate l2-norm between two points\"\"\"\n",
    "    dist = sum([(i - j) ** 2 for i, j in zip(point_1, point_2)]) ** 0.5\n",
    "    return dist"
   ]
  },
  {
   "cell_type": "code",
   "execution_count": null,
   "metadata": {
    "ExecuteTime": {
     "end_time": "2022-09-22T17:23:26.915813Z",
     "start_time": "2022-09-22T17:23:26.902792Z"
    },
    "code_folding": [],
    "id": "Uu5JlzCwAGCw"
   },
   "outputs": [],
   "source": [
    "def get_ear(landmarks, refer_idxs, frame_width, frame_height):\n",
    "    \"\"\"\n",
    "    Calculate Eye Aspect Ratio for one eye.\n",
    "\n",
    "    Args:\n",
    "        landmarks: (list) Detected landmarks list\n",
    "        refer_idxs: (list) Index positions of the chosen landmarks\n",
    "                            in order P1, P2, P3, P4, P5, P6\n",
    "        frame_width: (int) Width of captured frame\n",
    "        frame_height: (int) Height of captured frame\n",
    "\n",
    "    Returns:\n",
    "        ear: (float) Eye aspect ratio\n",
    "    \"\"\"\n",
    "    try:\n",
    "        # Compute the euclidean distance between the horizontal\n",
    "        coords_points = []\n",
    "        for i in refer_idxs:\n",
    "            lm = landmarks[i]\n",
    "            coord = denormalize_coordinates(lm.x, lm.y, frame_width, frame_height)\n",
    "            coords_points.append(coord)\n",
    "\n",
    "        # Eye landmark (x, y)-coordinates\n",
    "        P2_P6 = distance(coords_points[1], coords_points[5])\n",
    "        P3_P5 = distance(coords_points[2], coords_points[4])\n",
    "        P1_P4 = distance(coords_points[0], coords_points[3])\n",
    "\n",
    "        # Compute the eye aspect ratio\n",
    "        ear = (P2_P6 + P3_P5) / (2.0 * P1_P4)\n",
    "\n",
    "    except:\n",
    "        ear = 0.0\n",
    "        coords_points = None\n",
    "\n",
    "    return ear, coords_points"
   ]
  },
  {
   "cell_type": "markdown",
   "metadata": {
    "id": "rcYE6OmqAGCw"
   },
   "source": [
    "**Calculating `EAR` for the previously detected landmarks.**"
   ]
  },
  {
   "cell_type": "code",
   "execution_count": null,
   "metadata": {
    "ExecuteTime": {
     "end_time": "2022-09-22T17:23:26.931808Z",
     "start_time": "2022-09-22T17:23:26.917804Z"
    },
    "id": "iZPPIclnAGCw"
   },
   "outputs": [],
   "source": [
    "landmarks = face_landmarks.landmark"
   ]
  },
  {
   "cell_type": "code",
   "execution_count": null,
   "metadata": {
    "ExecuteTime": {
     "end_time": "2022-09-22T17:23:26.947803Z",
     "start_time": "2022-09-22T17:23:26.936805Z"
    },
    "id": "SOHiFWpGAGCw",
    "outputId": "70afced5-b1a7-40fa-d60d-e5c5cf3ddd7b"
   },
   "outputs": [],
   "source": [
    "left_ear, _  = get_ear(landmarks, chosen_left_eye_idxs, imgW, imgH)\n",
    "right_ear, _ = get_ear(landmarks, chosen_right_eye_idxs, imgW, imgH)\n",
    "\n",
    "EAR = (left_ear + right_ear) / 2\n",
    "\n",
    "print(\"left_ear: \", left_ear)\n",
    "print(\"right_ear:\", right_ear)\n",
    "print(\"Avg. EAR: \", EAR)"
   ]
  },
  {
   "cell_type": "code",
   "execution_count": null,
   "metadata": {
    "ExecuteTime": {
     "end_time": "2022-09-22T17:23:26.963808Z",
     "start_time": "2022-09-22T17:23:26.949792Z"
    },
    "code_folding": [],
    "id": "WxNSt1r5AGCx"
   },
   "outputs": [],
   "source": [
    "def calculate_avg_ear(landmarks, left_eye_idxs, right_eye_idxs, image_w, image_h):\n",
    "    # Calculate Eye aspect ratio \n",
    "    left_ear,  _ = get_ear(landmarks, left_eye_idxs,  imgW, imgH)\n",
    "    right_ear, _ = get_ear(landmarks, right_eye_idxs, imgW, imgH)\n",
    "\n",
    "    Avg_EAR = (left_ear + right_ear) / 2\n",
    "    return Avg_EAR"
   ]
  },
  {
   "cell_type": "code",
   "execution_count": null,
   "metadata": {
    "ExecuteTime": {
     "end_time": "2022-09-22T17:23:27.728798Z",
     "start_time": "2022-09-22T17:23:26.966801Z"
    }
   },
   "outputs": [],
   "source": [
    "image_eyes_open  = cv2.imread(\"test-open-eyes.jpg\")[:, :, ::-1]\n",
    "image_eyes_close = cv2.imread(\"test-close-eyes.jpg\")[:, :, ::-1]\n",
    "\n",
    "for idx, image in enumerate([image_eyes_open, image_eyes_close]):\n",
    "    \n",
    "    image = np.ascontiguousarray(image)\n",
    "    imgH, imgW, _ = image.shape\n",
    "\n",
    "    # Creating a copy of the original image for plotting the EAR value\n",
    "    custom_chosen_lmk_image = image.copy()\n",
    "\n",
    "    # Running inference using static_image_mode\n",
    "    with mp_facemesh.FaceMesh(refine_landmarks=True) as face_mesh:\n",
    "        results = face_mesh.process(image)\n",
    "\n",
    "        # If detections are available.\n",
    "        if results.multi_face_landmarks:\n",
    "\n",
    "            # Iterate over detections of each face. Here, we have max_num_faces=1, so only one iteration is performed.\n",
    "            for face_id, face_landmarks in enumerate(results.multi_face_landmarks):\n",
    "\n",
    "                landmarks = face_landmarks.landmark\n",
    "                EAR = calculate_avg_ear(landmarks, chosen_left_eye_idxs, chosen_right_eye_idxs, imgW, imgH)\n",
    "\n",
    "                # Print the EAR value on the custom_chosen_lmk_image.\n",
    "                cv2.putText(custom_chosen_lmk_image, f\"EAR: {round(EAR, 2)}\", (1, 24), \n",
    "                            cv2.FONT_HERSHEY_COMPLEX, 0.9, (255, 255, 255), 2\n",
    "                )\n",
    "\n",
    "                plot(img_dt=image.copy(),img_eye_lmks_chosen=custom_chosen_lmk_image, face_landmarks=face_landmarks,\n",
    "                     ts_thickness=1, ts_circle_radius=3, lmk_circle_radius=3\n",
    "                )"
   ]
  }
 ],
 "metadata": {
  "colab": {
   "provenance": []
  },
  "kernelspec": {
   "display_name": "Python 3 (ipykernel)",
   "language": "python",
   "name": "python3"
  },
  "language_info": {
   "codemirror_mode": {
    "name": "ipython",
    "version": 3
   },
   "file_extension": ".py",
   "mimetype": "text/x-python",
   "name": "python",
   "nbconvert_exporter": "python",
   "pygments_lexer": "ipython3",
   "version": "3.11.5"
  },
  "toc": {
   "base_numbering": 1,
   "nav_menu": {},
   "number_sections": false,
   "sideBar": true,
   "skip_h1_title": false,
   "title_cell": "Table of Contents",
   "title_sidebar": "Contents",
   "toc_cell": false,
   "toc_position": {
    "height": "calc(100% - 180px)",
    "left": "10px",
    "top": "150px",
    "width": "320px"
   },
   "toc_section_display": true,
   "toc_window_display": false
  },
  "varInspector": {
   "cols": {
    "lenName": 16,
    "lenType": 16,
    "lenVar": 40
   },
   "kernels_config": {
    "python": {
     "delete_cmd_postfix": "",
     "delete_cmd_prefix": "del ",
     "library": "var_list.py",
     "varRefreshCmd": "print(var_dic_list())"
    },
    "r": {
     "delete_cmd_postfix": ") ",
     "delete_cmd_prefix": "rm(",
     "library": "var_list.r",
     "varRefreshCmd": "cat(var_dic_list()) "
    }
   },
   "types_to_exclude": [
    "module",
    "function",
    "builtin_function_or_method",
    "instance",
    "_Feature"
   ],
   "window_display": false
  },
  "vscode": {
   "interpreter": {
    "hash": "75aa9c6daad11fbe7704e5dc5bd12ef893ea958e6c5f653ac1e3d84cdd3c4b71"
   }
  }
 },
 "nbformat": 4,
 "nbformat_minor": 1
}
